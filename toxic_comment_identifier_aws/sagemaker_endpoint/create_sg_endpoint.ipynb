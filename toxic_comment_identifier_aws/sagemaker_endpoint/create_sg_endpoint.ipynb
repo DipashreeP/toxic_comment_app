{
 "cells": [
  {
   "cell_type": "code",
   "execution_count": 1,
   "id": "3889e6f0-d9b1-49f9-a384-b7a838c255c3",
   "metadata": {
    "execution": {
     "iopub.execute_input": "2025-07-24T16:46:17.412510Z",
     "iopub.status.busy": "2025-07-24T16:46:17.412127Z",
     "iopub.status.idle": "2025-07-24T16:46:20.012735Z",
     "shell.execute_reply": "2025-07-24T16:46:20.011475Z",
     "shell.execute_reply.started": "2025-07-24T16:46:17.412484Z"
    }
   },
   "outputs": [
    {
     "name": "stdout",
     "output_type": "stream",
     "text": [
      "Requirement already satisfied: sagemaker in /opt/conda/lib/python3.12/site-packages (from -r requirements.txt (line 1)) (2.245.0)\n",
      "Requirement already satisfied: boto3 in /opt/conda/lib/python3.12/site-packages (from -r requirements.txt (line 2)) (1.37.1)\n",
      "Requirement already satisfied: attrs<24,>=23.1.0 in /opt/conda/lib/python3.12/site-packages (from sagemaker->-r requirements.txt (line 1)) (23.2.0)\n",
      "Requirement already satisfied: cloudpickle>=2.2.1 in /opt/conda/lib/python3.12/site-packages (from sagemaker->-r requirements.txt (line 1)) (3.1.1)\n",
      "Requirement already satisfied: docker in /opt/conda/lib/python3.12/site-packages (from sagemaker->-r requirements.txt (line 1)) (7.1.0)\n",
      "Requirement already satisfied: fastapi in /opt/conda/lib/python3.12/site-packages (from sagemaker->-r requirements.txt (line 1)) (0.115.14)\n",
      "Requirement already satisfied: google-pasta in /opt/conda/lib/python3.12/site-packages (from sagemaker->-r requirements.txt (line 1)) (0.2.0)\n",
      "Requirement already satisfied: graphene<4,>=3 in /opt/conda/lib/python3.12/site-packages (from sagemaker->-r requirements.txt (line 1)) (3.4.3)\n",
      "Requirement already satisfied: importlib-metadata<7.0,>=1.4.0 in /opt/conda/lib/python3.12/site-packages (from sagemaker->-r requirements.txt (line 1)) (6.10.0)\n",
      "Requirement already satisfied: jsonschema in /opt/conda/lib/python3.12/site-packages (from sagemaker->-r requirements.txt (line 1)) (4.23.0)\n",
      "Requirement already satisfied: numpy==1.26.4 in /opt/conda/lib/python3.12/site-packages (from sagemaker->-r requirements.txt (line 1)) (1.26.4)\n",
      "Requirement already satisfied: omegaconf<3,>=2.2 in /opt/conda/lib/python3.12/site-packages (from sagemaker->-r requirements.txt (line 1)) (2.3.0)\n",
      "Requirement already satisfied: packaging<25,>=23.0 in /opt/conda/lib/python3.12/site-packages (from sagemaker->-r requirements.txt (line 1)) (24.2)\n",
      "Requirement already satisfied: pandas in /opt/conda/lib/python3.12/site-packages (from sagemaker->-r requirements.txt (line 1)) (2.2.3)\n",
      "Requirement already satisfied: pathos in /opt/conda/lib/python3.12/site-packages (from sagemaker->-r requirements.txt (line 1)) (0.3.4)\n",
      "Requirement already satisfied: platformdirs in /opt/conda/lib/python3.12/site-packages (from sagemaker->-r requirements.txt (line 1)) (4.3.8)\n",
      "Requirement already satisfied: protobuf<6.0,>=3.12 in /opt/conda/lib/python3.12/site-packages (from sagemaker->-r requirements.txt (line 1)) (5.28.3)\n",
      "Requirement already satisfied: psutil in /opt/conda/lib/python3.12/site-packages (from sagemaker->-r requirements.txt (line 1)) (5.9.8)\n",
      "Requirement already satisfied: pyyaml>=6.0.1 in /opt/conda/lib/python3.12/site-packages (from sagemaker->-r requirements.txt (line 1)) (6.0.2)\n",
      "Requirement already satisfied: requests in /opt/conda/lib/python3.12/site-packages (from sagemaker->-r requirements.txt (line 1)) (2.32.4)\n",
      "Requirement already satisfied: sagemaker-core<2.0.0,>=1.0.17 in /opt/conda/lib/python3.12/site-packages (from sagemaker->-r requirements.txt (line 1)) (1.0.32)\n",
      "Requirement already satisfied: schema in /opt/conda/lib/python3.12/site-packages (from sagemaker->-r requirements.txt (line 1)) (0.7.7)\n",
      "Requirement already satisfied: smdebug-rulesconfig==1.0.1 in /opt/conda/lib/python3.12/site-packages (from sagemaker->-r requirements.txt (line 1)) (1.0.1)\n",
      "Requirement already satisfied: tblib<4,>=1.7.0 in /opt/conda/lib/python3.12/site-packages (from sagemaker->-r requirements.txt (line 1)) (3.1.0)\n",
      "Requirement already satisfied: tqdm in /opt/conda/lib/python3.12/site-packages (from sagemaker->-r requirements.txt (line 1)) (4.67.1)\n",
      "Requirement already satisfied: urllib3<3.0.0,>=1.26.8 in /opt/conda/lib/python3.12/site-packages (from sagemaker->-r requirements.txt (line 1)) (1.26.19)\n",
      "Requirement already satisfied: uvicorn in /opt/conda/lib/python3.12/site-packages (from sagemaker->-r requirements.txt (line 1)) (0.35.0)\n",
      "Requirement already satisfied: botocore<1.38.0,>=1.37.1 in /opt/conda/lib/python3.12/site-packages (from boto3->-r requirements.txt (line 2)) (1.37.1)\n",
      "Requirement already satisfied: jmespath<2.0.0,>=0.7.1 in /opt/conda/lib/python3.12/site-packages (from boto3->-r requirements.txt (line 2)) (1.0.1)\n",
      "Requirement already satisfied: s3transfer<0.12.0,>=0.11.0 in /opt/conda/lib/python3.12/site-packages (from boto3->-r requirements.txt (line 2)) (0.11.3)\n",
      "Requirement already satisfied: python-dateutil<3.0.0,>=2.1 in /opt/conda/lib/python3.12/site-packages (from botocore<1.38.0,>=1.37.1->boto3->-r requirements.txt (line 2)) (2.9.0.post0)\n",
      "Requirement already satisfied: graphql-core<3.3,>=3.1 in /opt/conda/lib/python3.12/site-packages (from graphene<4,>=3->sagemaker->-r requirements.txt (line 1)) (3.2.6)\n",
      "Requirement already satisfied: graphql-relay<3.3,>=3.1 in /opt/conda/lib/python3.12/site-packages (from graphene<4,>=3->sagemaker->-r requirements.txt (line 1)) (3.2.0)\n",
      "Requirement already satisfied: typing-extensions<5,>=4.7.1 in /opt/conda/lib/python3.12/site-packages (from graphene<4,>=3->sagemaker->-r requirements.txt (line 1)) (4.14.1)\n",
      "Requirement already satisfied: zipp>=0.5 in /opt/conda/lib/python3.12/site-packages (from importlib-metadata<7.0,>=1.4.0->sagemaker->-r requirements.txt (line 1)) (3.23.0)\n",
      "Requirement already satisfied: antlr4-python3-runtime==4.9.* in /opt/conda/lib/python3.12/site-packages (from omegaconf<3,>=2.2->sagemaker->-r requirements.txt (line 1)) (4.9.3)\n",
      "Requirement already satisfied: six>=1.5 in /opt/conda/lib/python3.12/site-packages (from python-dateutil<3.0.0,>=2.1->botocore<1.38.0,>=1.37.1->boto3->-r requirements.txt (line 2)) (1.17.0)\n",
      "Requirement already satisfied: pydantic<3.0.0,>=2.0.0 in /opt/conda/lib/python3.12/site-packages (from sagemaker-core<2.0.0,>=1.0.17->sagemaker->-r requirements.txt (line 1)) (2.11.7)\n",
      "Requirement already satisfied: rich<14.0.0,>=13.0.0 in /opt/conda/lib/python3.12/site-packages (from sagemaker-core<2.0.0,>=1.0.17->sagemaker->-r requirements.txt (line 1)) (13.9.4)\n",
      "Requirement already satisfied: mock<5.0,>4.0 in /opt/conda/lib/python3.12/site-packages (from sagemaker-core<2.0.0,>=1.0.17->sagemaker->-r requirements.txt (line 1)) (4.0.3)\n",
      "Requirement already satisfied: jsonschema-specifications>=2023.03.6 in /opt/conda/lib/python3.12/site-packages (from jsonschema->sagemaker->-r requirements.txt (line 1)) (2025.4.1)\n",
      "Requirement already satisfied: referencing>=0.28.4 in /opt/conda/lib/python3.12/site-packages (from jsonschema->sagemaker->-r requirements.txt (line 1)) (0.36.2)\n",
      "Requirement already satisfied: rpds-py>=0.7.1 in /opt/conda/lib/python3.12/site-packages (from jsonschema->sagemaker->-r requirements.txt (line 1)) (0.26.0)\n",
      "Requirement already satisfied: annotated-types>=0.6.0 in /opt/conda/lib/python3.12/site-packages (from pydantic<3.0.0,>=2.0.0->sagemaker-core<2.0.0,>=1.0.17->sagemaker->-r requirements.txt (line 1)) (0.7.0)\n",
      "Requirement already satisfied: pydantic-core==2.33.2 in /opt/conda/lib/python3.12/site-packages (from pydantic<3.0.0,>=2.0.0->sagemaker-core<2.0.0,>=1.0.17->sagemaker->-r requirements.txt (line 1)) (2.33.2)\n",
      "Requirement already satisfied: typing-inspection>=0.4.0 in /opt/conda/lib/python3.12/site-packages (from pydantic<3.0.0,>=2.0.0->sagemaker-core<2.0.0,>=1.0.17->sagemaker->-r requirements.txt (line 1)) (0.4.1)\n",
      "Requirement already satisfied: markdown-it-py>=2.2.0 in /opt/conda/lib/python3.12/site-packages (from rich<14.0.0,>=13.0.0->sagemaker-core<2.0.0,>=1.0.17->sagemaker->-r requirements.txt (line 1)) (3.0.0)\n",
      "Requirement already satisfied: pygments<3.0.0,>=2.13.0 in /opt/conda/lib/python3.12/site-packages (from rich<14.0.0,>=13.0.0->sagemaker-core<2.0.0,>=1.0.17->sagemaker->-r requirements.txt (line 1)) (2.19.2)\n",
      "Requirement already satisfied: mdurl~=0.1 in /opt/conda/lib/python3.12/site-packages (from markdown-it-py>=2.2.0->rich<14.0.0,>=13.0.0->sagemaker-core<2.0.0,>=1.0.17->sagemaker->-r requirements.txt (line 1)) (0.1.2)\n",
      "Requirement already satisfied: charset_normalizer<4,>=2 in /opt/conda/lib/python3.12/site-packages (from requests->sagemaker->-r requirements.txt (line 1)) (3.4.2)\n",
      "Requirement already satisfied: idna<4,>=2.5 in /opt/conda/lib/python3.12/site-packages (from requests->sagemaker->-r requirements.txt (line 1)) (3.10)\n",
      "Requirement already satisfied: certifi>=2017.4.17 in /opt/conda/lib/python3.12/site-packages (from requests->sagemaker->-r requirements.txt (line 1)) (2025.6.15)\n",
      "Requirement already satisfied: starlette<0.47.0,>=0.40.0 in /opt/conda/lib/python3.12/site-packages (from fastapi->sagemaker->-r requirements.txt (line 1)) (0.46.2)\n",
      "Requirement already satisfied: anyio<5,>=3.6.2 in /opt/conda/lib/python3.12/site-packages (from starlette<0.47.0,>=0.40.0->fastapi->sagemaker->-r requirements.txt (line 1)) (4.9.0)\n",
      "Requirement already satisfied: sniffio>=1.1 in /opt/conda/lib/python3.12/site-packages (from anyio<5,>=3.6.2->starlette<0.47.0,>=0.40.0->fastapi->sagemaker->-r requirements.txt (line 1)) (1.3.1)\n",
      "Requirement already satisfied: pytz>=2020.1 in /opt/conda/lib/python3.12/site-packages (from pandas->sagemaker->-r requirements.txt (line 1)) (2024.2)\n",
      "Requirement already satisfied: tzdata>=2022.7 in /opt/conda/lib/python3.12/site-packages (from pandas->sagemaker->-r requirements.txt (line 1)) (2025.2)\n",
      "Requirement already satisfied: ppft>=1.7.7 in /opt/conda/lib/python3.12/site-packages (from pathos->sagemaker->-r requirements.txt (line 1)) (1.7.7)\n",
      "Requirement already satisfied: dill>=0.4.0 in /opt/conda/lib/python3.12/site-packages (from pathos->sagemaker->-r requirements.txt (line 1)) (0.4.0)\n",
      "Requirement already satisfied: pox>=0.3.6 in /opt/conda/lib/python3.12/site-packages (from pathos->sagemaker->-r requirements.txt (line 1)) (0.3.6)\n",
      "Requirement already satisfied: multiprocess>=0.70.18 in /opt/conda/lib/python3.12/site-packages (from pathos->sagemaker->-r requirements.txt (line 1)) (0.70.18)\n",
      "Requirement already satisfied: click>=7.0 in /opt/conda/lib/python3.12/site-packages (from uvicorn->sagemaker->-r requirements.txt (line 1)) (8.2.1)\n",
      "Requirement already satisfied: h11>=0.8 in /opt/conda/lib/python3.12/site-packages (from uvicorn->sagemaker->-r requirements.txt (line 1)) (0.16.0)\n"
     ]
    }
   ],
   "source": [
    "!pip install -r requirements.txt"
   ]
  },
  {
   "cell_type": "code",
   "execution_count": 4,
   "id": "5dc6dee2-89fa-4185-9fba-ae585e7b4a17",
   "metadata": {
    "execution": {
     "iopub.execute_input": "2025-07-24T16:48:13.236118Z",
     "iopub.status.busy": "2025-07-24T16:48:13.235419Z",
     "iopub.status.idle": "2025-07-24T16:55:19.075102Z",
     "shell.execute_reply": "2025-07-24T16:55:19.074028Z",
     "shell.execute_reply.started": "2025-07-24T16:48:13.236090Z"
    }
   },
   "outputs": [
    {
     "name": "stdout",
     "output_type": "stream",
     "text": [
      "sagemaker.config INFO - Not applying SDK defaults from location: /etc/xdg/sagemaker/config.yaml\n",
      "sagemaker.config INFO - Not applying SDK defaults from location: /home/sagemaker-user/.config/sagemaker/config.yaml\n",
      "-------------!SageMaker endpoint deployed! Endpoint name: huggingface-pytorch-inference-2025-07-24-16-48-17-100\n"
     ]
    }
   ],
   "source": [
    "import sagemaker\n",
    "from sagemaker.huggingface import HuggingFaceModel\n",
    "\n",
    "# Get SageMaker execution role\n",
    "role = sagemaker.get_execution_role()\n",
    "\n",
    "# Define the HuggingFace Model Hub configuration\n",
    "hub = {\n",
    "    'HF_MODEL_ID': 'google/flan-t5-small',\n",
    "    'HF_TASK': 'text2text-generation'\n",
    "}\n",
    "\n",
    "# Create HuggingFace Model object\n",
    "huggingface_model = HuggingFaceModel(\n",
    "    transformers_version='4.26.0',\n",
    "    pytorch_version='1.13.1',\n",
    "    py_version='py39',\n",
    "    env=hub,\n",
    "    role=role\n",
    ")\n",
    "\n",
    "# Deploy the model to a SageMaker endpoint (Free Tier eligible instance)\n",
    "predictor = huggingface_model.deploy(\n",
    "    initial_instance_count=1,\n",
    "    instance_type='ml.t2.medium'  # Free Tier eligible\n",
    ")\n",
    "\n",
    "print('SageMaker endpoint deployed! Endpoint name:', predictor.endpoint_name) "
   ]
  },
  {
   "cell_type": "code",
   "execution_count": 11,
   "id": "bfdb72d4-a711-402e-9c43-8f9f75ddeadf",
   "metadata": {
    "execution": {
     "iopub.execute_input": "2025-07-24T17:06:31.789446Z",
     "iopub.status.busy": "2025-07-24T17:06:31.789170Z",
     "iopub.status.idle": "2025-07-24T17:06:34.161305Z",
     "shell.execute_reply": "2025-07-24T17:06:34.160626Z",
     "shell.execute_reply.started": "2025-07-24T17:06:31.789424Z"
    }
   },
   "outputs": [
    {
     "name": "stdout",
     "output_type": "stream",
     "text": [
      "Original: What a piece of crap. Only an idiot would write such garbage code.\n",
      "Rewritten: This code could be improved. There are several issues that need to be addressed. Example 1:\n",
      "------------------------------------------------------------\n",
      "\n",
      "Original: Your code is awesome\n",
      "Rewritten: I'm a big fan of the coding.\n",
      "------------------------------------------------------------\n",
      "\n",
      "Original: Wow, did you even try to make this work, or was it just for fun?\n",
      "Rewritten: I'm sorry, but I'm not sure what to do.\n",
      "------------------------------------------------------------\n",
      "\n",
      "Original: I think this code could be improved by adding more comments.\n",
      "Rewritten: I think this code could be improved. Have you considered testing it further?\n",
      "------------------------------------------------------------\n",
      "\n"
     ]
    }
   ],
   "source": [
    "import boto3\n",
    "import json\n",
    "\n",
    "# Replace with your actual SageMaker endpoint name and region\n",
    "SAGEMAKER_ENDPOINT = 'huggingface-pytorch-inference-2025-07-24-16-48-17-100'\n",
    "REGION = 'us-east-1'\n",
    "\n",
    "# Test prompts\n",
    "test_prompts = [\n",
    "    \"What a piece of crap. Only an idiot would write such garbage code.\",\n",
    "    \"Your code is awesome\",\n",
    "    \"Wow, did you even try to make this work, or was it just for fun?\",\n",
    "    \"I think this code could be improved by adding more comments.\"\n",
    "]\n",
    "\n",
    "# Create SageMaker runtime client\n",
    "sm_runtime = boto3.client('sagemaker-runtime', region_name=REGION)\n",
    "\n",
    "for prompt in test_prompts:\n",
    "    # You may need to format the prompt as your model expects (with instructions/examples)\n",
    "    payload = {\n",
    "        \"inputs\": f\"You are an assistant that rewrites software/code-related comments to be neutral, professional, and respectful. \"\n",
    "        \"Remove any insults, offensive language, or toxicity, but keep all technical meaning and intent. \"\n",
    "        \"Do not add unrelated information or change the topic. Only rephrase the original comment in a more respectful way.\\n\"\n",
    "        \"\\n\"\n",
    "        \"Example 1:\\n\"\n",
    "        \"Original: What a piece of crap. Only an idiot would write such garbage code.\\n\"\n",
    "        \"Rewritten: This code could be improved. There are several issues that need to be addressed.\\n\"\n",
    "        \"\\n\"\n",
    "        \"Example 2:\\n\"\n",
    "        \"Original: You must be the dumbest person to think this library is useful. Just quit coding forever.\\n\"\n",
    "        \"Rewritten: I don't find this library useful for my needs. Perhaps consider a different approach.\\n\"\n",
    "        \"\\n\"\n",
    "        \"Example 3:\\n\"\n",
    "        \"Original: This is the worst implementation I've ever seen. Did you even test it?\\n\"\n",
    "        \"Rewritten: This implementation could be improved. Have you considered testing it further?\\n\"\n",
    "        \"\\n\"\n",
    "        f\"Original: {prompt}\\nRewritten:\"\n",
    "    }\n",
    "    response = sm_runtime.invoke_endpoint(\n",
    "        EndpointName=SAGEMAKER_ENDPOINT,\n",
    "        ContentType='application/json',\n",
    "        Body=json.dumps(payload)\n",
    "    )\n",
    "    result = json.loads(response['Body'].read())\n",
    "    rewritten = result[0]['generated_text'] if isinstance(result, list) else result\n",
    "    print(f\"Original: {prompt}\")\n",
    "    print(f\"Rewritten: {rewritten}\\n{'-'*60}\\n\")"
   ]
  },
  {
   "cell_type": "code",
   "execution_count": null,
   "id": "b926aacd-fa2c-426b-b94e-117a845ac834",
   "metadata": {},
   "outputs": [],
   "source": []
  }
 ],
 "metadata": {
  "kernelspec": {
   "display_name": "Python 3 (ipykernel)",
   "language": "python",
   "name": "python3"
  },
  "language_info": {
   "codemirror_mode": {
    "name": "ipython",
    "version": 3
   },
   "file_extension": ".py",
   "mimetype": "text/x-python",
   "name": "python",
   "nbconvert_exporter": "python",
   "pygments_lexer": "ipython3",
   "version": "3.12.9"
  }
 },
 "nbformat": 4,
 "nbformat_minor": 5
}
